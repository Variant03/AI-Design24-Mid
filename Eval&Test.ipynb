{
 "cells": [
  {
   "cell_type": "code",
   "execution_count": 1,
   "id": "56077cdd-0cb2-46cd-8d50-b84ee76d2676",
   "metadata": {},
   "outputs": [],
   "source": [
    "from transformers import AutoConfig, AutoModelForCausalLM\n",
    "from transformers import AutoTokenizer\n",
    "    \n",
    "model_checkpoint = \"gpt2\"\n",
    "tokenizer_checkpoint = \"Xenova/t5-small\"\n",
    "tokenizer = AutoTokenizer.from_pretrained(tokenizer_checkpoint)\n",
    "\n",
    "model = AutoModelForCausalLM.from_pretrained(pretrained_model_name_or_path=\"./my_model/\")"
   ]
  },
  {
   "cell_type": "code",
   "execution_count": 2,
   "id": "1540a871-1db2-4b82-b9f7-5e5e28e631f1",
   "metadata": {},
   "outputs": [
    {
     "name": "stderr",
     "output_type": "stream",
     "text": [
      "The attention mask and the pad token id were not set. As a consequence, you may observe unexpected behavior. Please pass your input's `attention_mask` to obtain reliable results.\n",
      "Setting `pad_token_id` to `eos_token_id`:None for open-end generation.\n",
      "The attention mask is not set and cannot be inferred from input because pad token is same as eos token. As a consequence, you may observe unexpected behavior. Please pass your input's `attention_mask` to obtain reliable results.\n"
     ]
    },
    {
     "name": "stdout",
     "output_type": "stream",
     "text": [
      "Argentina won the World Cup in 2022.</s> When the 19th century, where the first half of the late year, this time was published by the final. When its original club, the club began \", in the \" C @-@ up \" a \", called \" a \" re @-@ @-@ like that was a more @-@ remained up. The game \" Wein \" began the game from the\n"
     ]
    }
   ],
   "source": [
    "prompt = \"Argentina won the World Cup in 2022.\"\n",
    " \n",
    "input_ids = tokenizer(prompt, return_tensors=\"pt\").input_ids\n",
    " \n",
    "gen_tokens = model.generate(\n",
    "    input_ids,\n",
    "    do_sample=True,\n",
    "    temperature=0.9,\n",
    "    max_length=100,\n",
    ")\n",
    "gen_text = tokenizer.batch_decode(gen_tokens)[0]\n",
    "print(gen_text)\n",
    " "
   ]
  },
  {
   "cell_type": "code",
   "execution_count": null,
   "id": "5a6f1901-5b37-4936-ad7a-b609e0b78cd7",
   "metadata": {},
   "outputs": [],
   "source": []
  }
 ],
 "metadata": {
  "kernelspec": {
   "display_name": "Python 3 (ipykernel)",
   "language": "python",
   "name": "python3"
  },
  "language_info": {
   "codemirror_mode": {
    "name": "ipython",
    "version": 3
   },
   "file_extension": ".py",
   "mimetype": "text/x-python",
   "name": "python",
   "nbconvert_exporter": "python",
   "pygments_lexer": "ipython3",
   "version": "3.12.4"
  }
 },
 "nbformat": 4,
 "nbformat_minor": 5
}
